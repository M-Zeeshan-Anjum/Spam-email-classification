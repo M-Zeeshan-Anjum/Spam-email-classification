{
 "cells": [
  {
   "cell_type": "markdown",
   "id": "7361593a-59b0-4e04-92d1-69b91ad1e2f2",
   "metadata": {},
   "source": [
    "# Hyperparameter Tuning Project\n",
    "   ## Hyperparameter Tuning\n",
    " In machine learning different variables are used to design model. The performance of model deeply depends upon the value of these variables.\n",
    " These variables are called parameters of model.There are two types of parameters in machine learning.\n",
    "   - Parameters\n",
    "   - Hyperparameters\n",
    "        ### Parameters :-\n",
    "     These are those variables whose values are derived from the data on which model is being designed.values of these variables depend upon the data on which model is being designed.\n",
    "     for example if we are designing a simple linear regression model, we know that it is a model of a straight line and the equation for straight line is\n",
    "     y = mx + c\n",
    "     where m is slop of line and c is y-intercept. The value of these two variables depends upon the values of x and y and x and y are input and output of the model and there values are given on which we design our model. So values of m and c will be derived from the given data on which model is being designed. These are parameters of the model\n",
    "     ### Hyperparameters :-\n",
    "     These are those variables of model whose values do not depened upon the dat on which model is being designed. values of these variables can not be derived from the given dataset.Rather values of these variables are set by the designer of the model, there is no exact rule for setting values of these variables.\n",
    "     for example in KNN model. there is a variable k which is the number of nearest neighbors on which prediction is made. there is no rule how to set value of k. its value is different foe every dataset and can not be derived from dataset.\n",
    "     Value of these parameters is set by using brute force technique( try different values for each parameter one by one and use the best one)\n",
    "     these variables are called Hyperparameters of model\n",
    "         In this project we build a model and then set different Hyperparameters of that model and see the effect of these parameter values."
   ]
  },
  {
   "cell_type": "markdown",
   "id": "64b7a588-ecd6-4411-bd92-627ad0f6c4d0",
   "metadata": {},
   "source": [
    "### Problem\n",
    "   \n",
    "    in this project we classify emails as either email is 'spam' or 'not spam'.\n",
    "    As our result will belong to some class so this problem belongs to 'Classification'.\n",
    "    We have only two classes 'spam' and 'not spam', so this is binary classification problem.\n",
    "    We use Logistic regression for binary classification so we apply Logistic Regression model to solve problem."
   ]
  },
  {
   "cell_type": "code",
   "execution_count": 1,
   "id": "f8604ff4-81b1-432f-94b0-9081543f9778",
   "metadata": {},
   "outputs": [],
   "source": [
    "import warnings\n",
    "warnings.filterwarnings('ignore')\n",
    "\n",
    "import numpy as np\n",
    "import pandas as pd\n",
    "import matplotlib.pyplot as plt\n",
    "%matplotlib inline\n",
    "\n",
    "from sklearn.model_selection import train_test_split\n",
    "from sklearn.linear_model import LogisticRegression\n",
    "from sklearn.svm import SVC\n",
    "from sklearn.naive_bayes import MultinomialNB\n",
    "from sklearn.tree import DecisionTreeClassifier\n",
    "from sklearn.neighbors import KNeighborsClassifier\n",
    "from sklearn.ensemble import RandomForestClassifier\n",
    "from sklearn.metrics import accuracy_score,precision_score, confusion_matrix, roc_curve, auc\n",
    "\n",
    "np.random.seed(42)\n"
   ]
  },
  {
   "cell_type": "markdown",
   "id": "23ed6be7-9821-447b-b1eb-3f320d19d7ee",
   "metadata": {},
   "source": [
    "## Import Data"
   ]
  },
  {
   "cell_type": "code",
   "execution_count": 2,
   "id": "2719d724-250d-43de-a74e-721f51f992e6",
   "metadata": {},
   "outputs": [
    {
     "name": "stdout",
     "output_type": "stream",
     "text": [
      "(5172, 3002)\n",
      "       Email No.  the  to  ect  and  for  of    a  you  hou  ...  connevey  \\\n",
      "0        Email 1    0   0    1    0    0   0    2    0    0  ...         0   \n",
      "1        Email 2    8  13   24    6    6   2  102    1   27  ...         0   \n",
      "2        Email 3    0   0    1    0    0   0    8    0    0  ...         0   \n",
      "3        Email 4    0   5   22    0    5   1   51    2   10  ...         0   \n",
      "4        Email 5    7   6   17    1    5   2   57    0    9  ...         0   \n",
      "...          ...  ...  ..  ...  ...  ...  ..  ...  ...  ...  ...       ...   \n",
      "5167  Email 5168    2   2    2    3    0   0   32    0    0  ...         0   \n",
      "5168  Email 5169   35  27   11    2    6   5  151    4    3  ...         0   \n",
      "5169  Email 5170    0   0    1    1    0   0   11    0    0  ...         0   \n",
      "5170  Email 5171    2   7    1    0    2   1   28    2    0  ...         0   \n",
      "5171  Email 5172   22  24    5    1    6   5  148    8    2  ...         0   \n",
      "\n",
      "      jay  valued  lay  infrastructure  military  allowing  ff  dry  \\\n",
      "0       0       0    0               0         0         0   0    0   \n",
      "1       0       0    0               0         0         0   1    0   \n",
      "2       0       0    0               0         0         0   0    0   \n",
      "3       0       0    0               0         0         0   0    0   \n",
      "4       0       0    0               0         0         0   1    0   \n",
      "...   ...     ...  ...             ...       ...       ...  ..  ...   \n",
      "5167    0       0    0               0         0         0   0    0   \n",
      "5168    0       0    0               0         0         0   1    0   \n",
      "5169    0       0    0               0         0         0   0    0   \n",
      "5170    0       0    0               0         0         0   1    0   \n",
      "5171    0       0    0               0         0         0   0    0   \n",
      "\n",
      "      Prediction  \n",
      "0              0  \n",
      "1              0  \n",
      "2              0  \n",
      "3              0  \n",
      "4              0  \n",
      "...          ...  \n",
      "5167           0  \n",
      "5168           0  \n",
      "5169           1  \n",
      "5170           1  \n",
      "5171           0  \n",
      "\n",
      "[5172 rows x 3002 columns]\n"
     ]
    }
   ],
   "source": [
    "url=\"emails.csv.zip\"\n",
    "df=pd.read_csv(url)\n",
    "print(df.shape)\n",
    "print(df)\n"
   ]
  },
  {
   "cell_type": "markdown",
   "id": "de7437c2-a500-4156-b4c9-aacab3f3cd0f",
   "metadata": {},
   "source": [
    "### Spam vs Not spam\n",
    "    Now we show how many emails in our datta are spam and how many are not spam using bar chart and pie chart."
   ]
  },
  {
   "cell_type": "code",
   "execution_count": 3,
   "id": "bd4509de-700d-476a-91d6-3f62fa853093",
   "metadata": {},
   "outputs": [
    {
     "data": {
      "image/png": "[encoded data removed]",
      "text/plain": [
       "<Figure size 640x480 with 1 Axes>"
      ]
     },
     "metadata": {},
     "output_type": "display_data"
    }
   ],
   "source": [
    "y_axis=df['Prediction'].value_counts()\n",
    "x_axis=['not spam','spam']\n",
    "\n",
    "#bar chart\n",
    "\n",
    "plt.bar(x_axis,y_axis,color=['blue','orange'])\n",
    "plt.show()\n",
    "\n",
    "\n"
   ]
  },
  {
   "cell_type": "code",
   "execution_count": 4,
   "id": "2a00f6a5-42ab-4e92-971f-062186796972",
   "metadata": {},
   "outputs": [
    {
     "data": {
      "image/png": "[encoded data removed]",
      "text/plain": [
       "<Figure size 640x480 with 1 Axes>"
      ]
     },
     "metadata": {},
     "output_type": "display_data"
    }
   ],
   "source": [
    "# pie chart\n",
    "\n",
    "plt.pie(y_axis)\n",
    "plt.show()"
   ]
  },
  {
   "cell_type": "markdown",
   "id": "5f44ae3d-85bb-4d31-a54e-5818d8ad1989",
   "metadata": {},
   "source": [
    "### Data understanding\n",
    "    from above data it is clear that we have data of 5172 emails in our data file.Which are rows of our data file.\n",
    "    Our file has 3002 No of columns.From which first column is 'Email No' and we have no interest in this column.\n",
    "    The last column is 'Prediction' that is our output(Label) of our model.\n",
    "    Remaining 3000 columns have data of emails each column represents a word(heading of column) and number in this column represents\n",
    "    how much time this word repeted in that particular email.so these 3000 columns contain inputs(features) of our model.\n",
    "    From above discussion it is clear that we have one output(Label) column and 3000 inputs(Features) columns.\n",
    "    Now we extract our input columns from data and put in new variable 'X'.\n",
    "    and we save our output data in variable 'Y'"
   ]
  },
  {
   "cell_type": "markdown",
   "id": "1dfce177-92b5-40fe-82de-7882cc5ca6c8",
   "metadata": {},
   "source": [
    "### Setting input and output data"
   ]
  },
  {
   "cell_type": "code",
   "execution_count": 5,
   "id": "9683fdb9-a2c8-4c59-92de-9a2db7b81f75",
   "metadata": {},
   "outputs": [
    {
     "name": "stdout",
     "output_type": "stream",
     "text": [
      "(5172, 3000)\n",
      "(5172,)\n"
     ]
    }
   ],
   "source": [
    "X = df.drop(columns=['Email No.' , 'Prediction'])\n",
    "Y=df['Prediction']\n",
    "print(X.shape)\n",
    "print(Y.shape)\n"
   ]
  },
  {
   "cell_type": "markdown",
   "id": "64d8ad4b-2d66-4928-b0d5-38709397eaae",
   "metadata": {},
   "source": [
    "### Splitting data\n",
    "    Now we split our data into training data set and test data set.\n",
    "    we break our data set so that 70% of data will be used as training the model and remaining 30% will be used to evaluate the model performance. \n",
    "    we use 'x_train' and 'y_train' variable names to store input and output training data respectively.\n",
    "    we use 'x_test' and 'y_test' variable name to store input and output test data respectively."
   ]
  },
  {
   "cell_type": "code",
   "execution_count": 6,
   "id": "f8c4722f-c51d-4b57-9e89-26d41808a16b",
   "metadata": {},
   "outputs": [
    {
     "name": "stdout",
     "output_type": "stream",
     "text": [
      " x_train =  (3620, 3000) \n",
      " y_train =  (3620,) \n",
      " x_test =  (1552, 3000) \n",
      " y_test =  (1552,)\n"
     ]
    }
   ],
   "source": [
    "x_train,x_test, y_train, y_test = train_test_split(X, Y, test_size=0.3)\n",
    "print(\" x_train = \", x_train.shape, \"\\n\", \"y_train = \", y_train.shape,\"\\n\", \"x_test = \", x_test.shape,\"\\n\", \"y_test = \",y_test.shape)"
   ]
  },
  {
   "cell_type": "markdown",
   "id": "e2a7c049-615e-492f-bae8-c93d6986dec7",
   "metadata": {},
   "source": [
    "### Model designing\n",
    "    Now we design logistic Regression model on our training data"
   ]
  },
  {
   "cell_type": "code",
   "execution_count": 7,
   "id": "2f4df4a7-dcec-440c-9d09-611da1057f80",
   "metadata": {},
   "outputs": [
    {
     "data": {
      "text/html": [
       "<style>#sk-container-id-1 {\n",
       "  /* Definition of color scheme common for light and dark mode */\n",
       "  --sklearn-color-text: #000;\n",
       "  --sklearn-color-text-muted: #666;\n",
       "  --sklearn-color-line: gray;\n",
       "  /* Definition of color scheme for unfitted estimators */\n",
       "  --sklearn-color-unfitted-level-0: #fff5e6;\n",
       "  --sklearn-color-unfitted-level-1: #f6e4d2;\n",
       "  --sklearn-color-unfitted-level-2: #ffe0b3;\n",
       "  --sklearn-color-unfitted-level-3: chocolate;\n",
       "  /* Definition of color scheme for fitted estimators */\n",
       "  --sklearn-color-fitted-level-0: #f0f8ff;\n",
       "  --sklearn-color-fitted-level-1: #d4ebff;\n",
       "  --sklearn-color-fitted-level-2: #b3dbfd;\n",
       "  --sklearn-color-fitted-level-3: cornflowerblue;\n",
       "\n",
       "  /* Specific color for light theme */\n",
       "  --sklearn-color-text-on-default-background: var(--sg-text-color, var(--theme-code-foreground, var(--jp-content-font-color1, black)));\n",
       "  --sklearn-color-background: var(--sg-background-color, var(--theme-background, var(--jp-layout-color0, white)));\n",
       "  --sklearn-color-border-box: var(--sg-text-color, var(--theme-code-foreground, var(--jp-content-font-color1, black)));\n",
       "  --sklearn-color-icon: #696969;\n",
       "\n",
       "  @media (prefers-color-scheme: dark) {\n",
       "    /* Redefinition of color scheme for dark theme */\n",
       "    --sklearn-color-text-on-default-background: var(--sg-text-color, var(--theme-code-foreground, var(--jp-content-font-color1, white)));\n",
       "    --sklearn-color-background: var(--sg-background-color, var(--theme-background, var(--jp-layout-color0, #111)));\n",
       "    --sklearn-color-border-box: var(--sg-text-color, var(--theme-code-foreground, var(--jp-content-font-color1, white)));\n",
       "    --sklearn-color-icon: #878787;\n",
       "  }\n",
       "}\n",
       "\n",
       "#sk-container-id-1 {\n",
       "  color: var(--sklearn-color-text);\n",
       "}\n",
       "\n",
       "#sk-container-id-1 pre {\n",
       "  padding: 0;\n",
       "}\n",
       "\n",
       "#sk-container-id-1 input.sk-hidden--visually {\n",
       "  border: 0;\n",
       "  clip: rect(1px 1px 1px 1px);\n",
       "  clip: rect(1px, 1px, 1px, 1px);\n",
       "  height: 1px;\n",
       "  margin: -1px;\n",
       "  overflow: hidden;\n",
       "  padding: 0;\n",
       "  position: absolute;\n",
       "  width: 1px;\n",
       "}\n",
       "\n",
       "#sk-container-id-1 div.sk-dashed-wrapped {\n",
       "  border: 1px dashed var(--sklearn-color-line);\n",
       "  margin: 0 0.4em 0.5em 0.4em;\n",
       "  box-sizing: border-box;\n",
       "  padding-bottom: 0.4em;\n",
       "  background-color: var(--sklearn-color-background);\n",
       "}\n",
       "\n",
       "#sk-container-id-1 div.sk-container {\n",
       "  /* jupyter's `normalize.less` sets `[hidden] { display: none; }`\n",
       "     but bootstrap.min.css set `[hidden] { display: none !important; }`\n",
       "     so we also need the `!important` here to be able to override the\n",
       "     default hidden behavior on the sphinx rendered scikit-learn.org.\n",
       "     See: https://github.com/scikit-learn/scikit-learn/issues/21755 */\n",
       "  display: inline-block !important;\n",
       "  position: relative;\n",
       "}\n",
       "\n",
       "#sk-container-id-1 div.sk-text-repr-fallback {\n",
       "  display: none;\n",
       "}\n",
       "\n",
       "div.sk-parallel-item,\n",
       "div.sk-serial,\n",
       "div.sk-item {\n",
       "  /* draw centered vertical line to link estimators */\n",
       "  background-image: linear-gradient(var(--sklearn-color-text-on-default-background), var(--sklearn-color-text-on-default-background));\n",
       "  background-size: 2px 100%;\n",
       "  background-repeat: no-repeat;\n",
       "  background-position: center center;\n",
       "}\n",
       "\n",
       "/* Parallel-specific style estimator block */\n",
       "\n",
       "#sk-container-id-1 div.sk-parallel-item::after {\n",
       "  content: \"\";\n",
       "  width: 100%;\n",
       "  border-bottom: 2px solid var(--sklearn-color-text-on-default-background);\n",
       "  flex-grow: 1;\n",
       "}\n",
       "\n",
       "#sk-container-id-1 div.sk-parallel {\n",
       "  display: flex;\n",
       "  align-items: stretch;\n",
       "  justify-content: center;\n",
       "  background-color: var(--sklearn-color-background);\n",
       "  position: relative;\n",
       "}\n",
       "\n",
       "#sk-container-id-1 div.sk-parallel-item {\n",
       "  display: flex;\n",
       "  flex-direction: column;\n",
       "}\n",
       "\n",
       "#sk-container-id-1 div.sk-parallel-item:first-child::after {\n",
       "  align-self: flex-end;\n",
       "  width: 50%;\n",
       "}\n",
       "\n",
       "#sk-container-id-1 div.sk-parallel-item:last-child::after {\n",
       "  align-self: flex-start;\n",
       "  width: 50%;\n",
       "}\n",
       "\n",
       "#sk-container-id-1 div.sk-parallel-item:only-child::after {\n",
       "  width: 0;\n",
       "}\n",
       "\n",
       "/* Serial-specific style estimator block */\n",
       "\n",
       "#sk-container-id-1 div.sk-serial {\n",
       "  display: flex;\n",
       "  flex-direction: column;\n",
       "  align-items: center;\n",
       "  background-color: var(--sklearn-color-background);\n",
       "  padding-right: 1em;\n",
       "  padding-left: 1em;\n",
       "}\n",
       "\n",
       "\n",
       "/* Toggleable style: style used for estimator/Pipeline/ColumnTransformer box that is\n",
       "clickable and can be expanded/collapsed.\n",
       "- Pipeline and ColumnTransformer use this feature and define the default style\n",
       "- Estimators will overwrite some part of the style using the `sk-estimator` class\n",
       "*/\n",
       "\n",
       "/* Pipeline and ColumnTransformer style (default) */\n",
       "\n",
       "#sk-container-id-1 div.sk-toggleable {\n",
       "  /* Default theme specific background. It is overwritten whether we have a\n",
       "  specific estimator or a Pipeline/ColumnTransformer */\n",
       "  background-color: var(--sklearn-color-background);\n",
       "}\n",
       "\n",
       "/* Toggleable label */\n",
       "#sk-container-id-1 label.sk-toggleable__label {\n",
       "  cursor: pointer;\n",
       "  display: flex;\n",
       "  width: 100%;\n",
       "  margin-bottom: 0;\n",
       "  padding: 0.5em;\n",
       "  box-sizing: border-box;\n",
       "  text-align: center;\n",
       "  align-items: start;\n",
       "  justify-content: space-between;\n",
       "  gap: 0.5em;\n",
       "}\n",
       "\n",
       "#sk-container-id-1 label.sk-toggleable__label .caption {\n",
       "  font-size: 0.6rem;\n",
       "  font-weight: lighter;\n",
       "  color: var(--sklearn-color-text-muted);\n",
       "}\n",
       "\n",
       "#sk-container-id-1 label.sk-toggleable__label-arrow:before {\n",
       "  /* Arrow on the left of the label */\n",
       "  content: \"▸\";\n",
       "  float: left;\n",
       "  margin-right: 0.25em;\n",
       "  color: var(--sklearn-color-icon);\n",
       "}\n",
       "\n",
       "#sk-container-id-1 label.sk-toggleable__label-arrow:hover:before {\n",
       "  color: var(--sklearn-color-text);\n",
       "}\n",
       "\n",
       "/* Toggleable content - dropdown */\n",
       "\n",
       "#sk-container-id-1 div.sk-toggleable__content {\n",
       "  max-height: 0;\n",
       "  max-width: 0;\n",
       "  overflow: hidden;\n",
       "  text-align: left;\n",
       "  /* unfitted */\n",
       "  background-color: var(--sklearn-color-unfitted-level-0);\n",
       "}\n",
       "\n",
       "#sk-container-id-1 div.sk-toggleable__content.fitted {\n",
       "  /* fitted */\n",
       "  background-color: var(--sklearn-color-fitted-level-0);\n",
       "}\n",
       "\n",
       "#sk-container-id-1 div.sk-toggleable__content pre {\n",
       "  margin: 0.2em;\n",
       "  border-radius: 0.25em;\n",
       "  color: var(--sklearn-color-text);\n",
       "  /* unfitted */\n",
       "  background-color: var(--sklearn-color-unfitted-level-0);\n",
       "}\n",
       "\n",
       "#sk-container-id-1 div.sk-toggleable__content.fitted pre {\n",
       "  /* unfitted */\n",
       "  background-color: var(--sklearn-color-fitted-level-0);\n",
       "}\n",
       "\n",
       "#sk-container-id-1 input.sk-toggleable__control:checked~div.sk-toggleable__content {\n",
       "  /* Expand drop-down */\n",
       "  max-height: 200px;\n",
       "  max-width: 100%;\n",
       "  overflow: auto;\n",
       "}\n",
       "\n",
       "#sk-container-id-1 input.sk-toggleable__control:checked~label.sk-toggleable__label-arrow:before {\n",
       "  content: \"▾\";\n",
       "}\n",
       "\n",
       "/* Pipeline/ColumnTransformer-specific style */\n",
       "\n",
       "#sk-container-id-1 div.sk-label input.sk-toggleable__control:checked~label.sk-toggleable__label {\n",
       "  color: var(--sklearn-color-text);\n",
       "  background-color: var(--sklearn-color-unfitted-level-2);\n",
       "}\n",
       "\n",
       "#sk-container-id-1 div.sk-label.fitted input.sk-toggleable__control:checked~label.sk-toggleable__label {\n",
       "  background-color: var(--sklearn-color-fitted-level-2);\n",
       "}\n",
       "\n",
       "/* Estimator-specific style */\n",
       "\n",
       "/* Colorize estimator box */\n",
       "#sk-container-id-1 div.sk-estimator input.sk-toggleable__control:checked~label.sk-toggleable__label {\n",
       "  /* unfitted */\n",
       "  background-color: var(--sklearn-color-unfitted-level-2);\n",
       "}\n",
       "\n",
       "#sk-container-id-1 div.sk-estimator.fitted input.sk-toggleable__control:checked~label.sk-toggleable__label {\n",
       "  /* fitted */\n",
       "  background-color: var(--sklearn-color-fitted-level-2);\n",
       "}\n",
       "\n",
       "#sk-container-id-1 div.sk-label label.sk-toggleable__label,\n",
       "#sk-container-id-1 div.sk-label label {\n",
       "  /* The background is the default theme color */\n",
       "  color: var(--sklearn-color-text-on-default-background);\n",
       "}\n",
       "\n",
       "/* On hover, darken the color of the background */\n",
       "#sk-container-id-1 div.sk-label:hover label.sk-toggleable__label {\n",
       "  color: var(--sklearn-color-text);\n",
       "  background-color: var(--sklearn-color-unfitted-level-2);\n",
       "}\n",
       "\n",
       "/* Label box, darken color on hover, fitted */\n",
       "#sk-container-id-1 div.sk-label.fitted:hover label.sk-toggleable__label.fitted {\n",
       "  color: var(--sklearn-color-text);\n",
       "  background-color: var(--sklearn-color-fitted-level-2);\n",
       "}\n",
       "\n",
       "/* Estimator label */\n",
       "\n",
       "#sk-container-id-1 div.sk-label label {\n",
       "  font-family: monospace;\n",
       "  font-weight: bold;\n",
       "  display: inline-block;\n",
       "  line-height: 1.2em;\n",
       "}\n",
       "\n",
       "#sk-container-id-1 div.sk-label-container {\n",
       "  text-align: center;\n",
       "}\n",
       "\n",
       "/* Estimator-specific */\n",
       "#sk-container-id-1 div.sk-estimator {\n",
       "  font-family: monospace;\n",
       "  border: 1px dotted var(--sklearn-color-border-box);\n",
       "  border-radius: 0.25em;\n",
       "  box-sizing: border-box;\n",
       "  margin-bottom: 0.5em;\n",
       "  /* unfitted */\n",
       "  background-color: var(--sklearn-color-unfitted-level-0);\n",
       "}\n",
       "\n",
       "#sk-container-id-1 div.sk-estimator.fitted {\n",
       "  /* fitted */\n",
       "  background-color: var(--sklearn-color-fitted-level-0);\n",
       "}\n",
       "\n",
       "/* on hover */\n",
       "#sk-container-id-1 div.sk-estimator:hover {\n",
       "  /* unfitted */\n",
       "  background-color: var(--sklearn-color-unfitted-level-2);\n",
       "}\n",
       "\n",
       "#sk-container-id-1 div.sk-estimator.fitted:hover {\n",
       "  /* fitted */\n",
       "  background-color: var(--sklearn-color-fitted-level-2);\n",
       "}\n",
       "\n",
       "/* Specification for estimator info (e.g. \"i\" and \"?\") */\n",
       "\n",
       "/* Common style for \"i\" and \"?\" */\n",
       "\n",
       ".sk-estimator-doc-link,\n",
       "a:link.sk-estimator-doc-link,\n",
       "a:visited.sk-estimator-doc-link {\n",
       "  float: right;\n",
       "  font-size: smaller;\n",
       "  line-height: 1em;\n",
       "  font-family: monospace;\n",
       "  background-color: var(--sklearn-color-background);\n",
       "  border-radius: 1em;\n",
       "  height: 1em;\n",
       "  width: 1em;\n",
       "  text-decoration: none !important;\n",
       "  margin-left: 0.5em;\n",
       "  text-align: center;\n",
       "  /* unfitted */\n",
       "  border: var(--sklearn-color-unfitted-level-1) 1pt solid;\n",
       "  color: var(--sklearn-color-unfitted-level-1);\n",
       "}\n",
       "\n",
       ".sk-estimator-doc-link.fitted,\n",
       "a:link.sk-estimator-doc-link.fitted,\n",
       "a:visited.sk-estimator-doc-link.fitted {\n",
       "  /* fitted */\n",
       "  border: var(--sklearn-color-fitted-level-1) 1pt solid;\n",
       "  color: var(--sklearn-color-fitted-level-1);\n",
       "}\n",
       "\n",
       "/* On hover */\n",
       "div.sk-estimator:hover .sk-estimator-doc-link:hover,\n",
       ".sk-estimator-doc-link:hover,\n",
       "div.sk-label-container:hover .sk-estimator-doc-link:hover,\n",
       ".sk-estimator-doc-link:hover {\n",
       "  /* unfitted */\n",
       "  background-color: var(--sklearn-color-unfitted-level-3);\n",
       "  color: var(--sklearn-color-background);\n",
       "  text-decoration: none;\n",
       "}\n",
       "\n",
       "div.sk-estimator.fitted:hover .sk-estimator-doc-link.fitted:hover,\n",
       ".sk-estimator-doc-link.fitted:hover,\n",
       "div.sk-label-container:hover .sk-estimator-doc-link.fitted:hover,\n",
       ".sk-estimator-doc-link.fitted:hover {\n",
       "  /* fitted */\n",
       "  background-color: var(--sklearn-color-fitted-level-3);\n",
       "  color: var(--sklearn-color-background);\n",
       "  text-decoration: none;\n",
       "}\n",
       "\n",
       "/* Span, style for the box shown on hovering the info icon */\n",
       ".sk-estimator-doc-link span {\n",
       "  display: none;\n",
       "  z-index: 9999;\n",
       "  position: relative;\n",
       "  font-weight: normal;\n",
       "  right: .2ex;\n",
       "  padding: .5ex;\n",
       "  margin: .5ex;\n",
       "  width: min-content;\n",
       "  min-width: 20ex;\n",
       "  max-width: 50ex;\n",
       "  color: var(--sklearn-color-text);\n",
       "  box-shadow: 2pt 2pt 4pt #999;\n",
       "  /* unfitted */\n",
       "  background: var(--sklearn-color-unfitted-level-0);\n",
       "  border: .5pt solid var(--sklearn-color-unfitted-level-3);\n",
       "}\n",
       "\n",
       ".sk-estimator-doc-link.fitted span {\n",
       "  /* fitted */\n",
       "  background: var(--sklearn-color-fitted-level-0);\n",
       "  border: var(--sklearn-color-fitted-level-3);\n",
       "}\n",
       "\n",
       ".sk-estimator-doc-link:hover span {\n",
       "  display: block;\n",
       "}\n",
       "\n",
       "/* \"?\"-specific style due to the `<a>` HTML tag */\n",
       "\n",
       "#sk-container-id-1 a.estimator_doc_link {\n",
       "  float: right;\n",
       "  font-size: 1rem;\n",
       "  line-height: 1em;\n",
       "  font-family: monospace;\n",
       "  background-color: var(--sklearn-color-background);\n",
       "  border-radius: 1rem;\n",
       "  height: 1rem;\n",
       "  width: 1rem;\n",
       "  text-decoration: none;\n",
       "  /* unfitted */\n",
       "  color: var(--sklearn-color-unfitted-level-1);\n",
       "  border: var(--sklearn-color-unfitted-level-1) 1pt solid;\n",
       "}\n",
       "\n",
       "#sk-container-id-1 a.estimator_doc_link.fitted {\n",
       "  /* fitted */\n",
       "  border: var(--sklearn-color-fitted-level-1) 1pt solid;\n",
       "  color: var(--sklearn-color-fitted-level-1);\n",
       "}\n",
       "\n",
       "/* On hover */\n",
       "#sk-container-id-1 a.estimator_doc_link:hover {\n",
       "  /* unfitted */\n",
       "  background-color: var(--sklearn-color-unfitted-level-3);\n",
       "  color: var(--sklearn-color-background);\n",
       "  text-decoration: none;\n",
       "}\n",
       "\n",
       "#sk-container-id-1 a.estimator_doc_link.fitted:hover {\n",
       "  /* fitted */\n",
       "  background-color: var(--sklearn-color-fitted-level-3);\n",
       "}\n",
       "</style><div id=\"sk-container-id-1\" class=\"sk-top-container\"><div class=\"sk-text-repr-fallback\"><pre>LogisticRegression()</pre><b>In a Jupyter environment, please rerun this cell to show the HTML representation or trust the notebook. <br />On GitHub, the HTML representation is unable to render, please try loading this page with nbviewer.org.</b></div><div class=\"sk-container\" hidden><div class=\"sk-item\"><div class=\"sk-estimator fitted sk-toggleable\"><input class=\"sk-toggleable__control sk-hidden--visually\" id=\"sk-estimator-id-1\" type=\"checkbox\" checked><label for=\"sk-estimator-id-1\" class=\"sk-toggleable__label fitted sk-toggleable__label-arrow\"><div><div>LogisticRegression</div></div><div><a class=\"sk-estimator-doc-link fitted\" rel=\"noreferrer\" target=\"_blank\" href=\"https://scikit-learn.org/1.6/modules/generated/sklearn.linear_model.LogisticRegression.html\">?<span>Documentation for LogisticRegression</span></a><span class=\"sk-estimator-doc-link fitted\">i<span>Fitted</span></span></div></label><div class=\"sk-toggleable__content fitted\"><pre>LogisticRegression()</pre></div> </div></div></div></div>"
      ],
      "text/plain": [
       "LogisticRegression()"
      ]
     },
     "execution_count": 7,
     "metadata": {},
     "output_type": "execute_result"
    }
   ],
   "source": [
    "model = LogisticRegression()\n",
    "model.fit(x_train,y_train)"
   ]
  },
  {
   "cell_type": "code",
   "execution_count": 8,
   "id": "ad3f5c20-3906-496d-bc73-6e704101192f",
   "metadata": {},
   "outputs": [],
   "source": [
    "svc = SVC(kernel= \"sigmoid\", gamma  = 1.0)\n",
    "knc = KNeighborsClassifier()\n",
    "mnb = MultinomialNB()\n",
    "dtc = DecisionTreeClassifier(max_depth = 5)\n",
    "lrc = LogisticRegression(solver = 'liblinear', penalty = 'l1')\n",
    "rfc = RandomForestClassifier(n_estimators = 50, random_state = 2 )\n"
   ]
  },
  {
   "cell_type": "code",
   "execution_count": 9,
   "id": "22e1e5a4-4b58-49eb-b202-db7d175e20a0",
   "metadata": {},
   "outputs": [],
   "source": [
    "clfs = {\n",
    "    'SVC': svc,\n",
    "    'KNN': knc,\n",
    "    'NB': mnb,\n",
    "    'DT': dtc,\n",
    "    'LR': lrc,\n",
    "    'RF': rfc\n",
    "}"
   ]
  },
  {
   "cell_type": "code",
   "execution_count": 10,
   "id": "fc045682-a1d9-4e68-821e-20a1796500cb",
   "metadata": {},
   "outputs": [],
   "source": [
    "# define a function to train a model and return accuracy\n",
    "def train_classifier(clfs, X_train, y_train, X_test, y_test):\n",
    "    clfs.fit(X_train,y_train)\n",
    "    y_pred = clfs.predict(X_test)\n",
    "    accuracy = accuracy_score(y_test, y_pred)\n",
    "    precision = precision_score(y_test, y_pred)\n",
    "    return accuracy , precision"
   ]
  },
  {
   "cell_type": "code",
   "execution_count": 11,
   "id": "7a099059-6b2e-4099-aaf7-3091bd08dbc4",
   "metadata": {},
   "outputs": [
    {
     "name": "stdout",
     "output_type": "stream",
     "text": [
      "\n",
      "For:  SVC\n",
      "Accuracy:  0.7068298969072165\n",
      "Precision:  0.0\n",
      "\n",
      "For:  KNN\n",
      "Accuracy:  0.8608247422680413\n",
      "Precision:  0.7311411992263056\n",
      "\n",
      "For:  NB\n",
      "Accuracy:  0.9484536082474226\n",
      "Precision:  0.8818737270875764\n",
      "\n",
      "For:  DT\n",
      "Accuracy:  0.8505154639175257\n",
      "Precision:  0.9239543726235742\n",
      "\n",
      "For:  LR\n",
      "Accuracy:  0.9664948453608248\n",
      "Precision:  0.9314775160599572\n",
      "\n",
      "For:  RF\n",
      "Accuracy:  0.9742268041237113\n",
      "Precision:  0.9560439560439561\n"
     ]
    }
   ],
   "source": [
    "accuracy_scores = []\n",
    "precision_scores = []\n",
    "for name , clfs in clfs.items():\n",
    "    current_accuracy, current_precision = train_classifier(clfs, x_train, y_train, x_test, y_test)\n",
    "    print()\n",
    "    print(\"For: \", name)\n",
    "    print(\"Accuracy: \", current_accuracy)\n",
    "    print(\"Precision: \", current_precision)\n",
    "    \n",
    "    accuracy_scores.append(current_accuracy)\n",
    "    precision_scores.append(current_precision)"
   ]
  },
  {
   "cell_type": "markdown",
   "id": "439ecea9-252c-490e-9c11-bbca3230f3f8",
   "metadata": {},
   "source": [
    "## HYPERPARAMETER TUNING\n",
    "    Now we start tuning hyperparameters of models.\n",
    "### Tuning K for Knn\n",
    "    First we start withh KNN model.in KNN k is the number of neighbor of variables on which parameter classify the result.Now we use different values of k and for each value we design same model and calculate models efficiency and then compare results to show effect of k on model's performance.\n",
    "    We store different values for k in an array called n_neighbors and loop through it and for each iteration run KNN model and checks it performance."
   ]
  },
  {
   "cell_type": "code",
   "execution_count": 12,
   "id": "c97d83d7-a561-4e41-b1d8-f763859228e8",
   "metadata": {},
   "outputs": [],
   "source": [
    "\n",
    "accuracy_scores = []\n",
    "precision_scores = []\n",
    "n_neighbors = [2,3,4,5]   # store values for k in array\n",
    "for neighbor in n_neighbors:\n",
    "    knn = KNeighborsClassifier(n_neighbors=neighbor)\n",
    "    knn.fit(x_train, y_train)\n",
    "    y_predict=knn.predict(x_test)\n",
    "    \n",
    "    accuracy_scores.append(accuracy_score(y_test, y_predict))\n",
    "    precision_scores.append(precision_score(y_test, y_predict))"
   ]
  },
  {
   "cell_type": "code",
   "execution_count": 21,
   "id": "012fa7be-283d-4a25-be9e-8dede4181c2c",
   "metadata": {},
   "outputs": [
    {
     "name": "stdout",
     "output_type": "stream",
     "text": [
      "for k = 2 , Accuracy = 0.865979381443299 , Precision = 0.8158567774936062\n",
      "for k = 3 , Accuracy = 0.8621134020618557 , Precision = 0.7395626242544732\n",
      "for k = 4 , Accuracy = 0.8692010309278351 , Precision = 0.8014354066985646\n",
      "for k = 5 , Accuracy = 0.8608247422680413 , Precision = 0.7311411992263056\n"
     ]
    }
   ],
   "source": [
    "for i in range(4):\n",
    "    print(f\"for k = {n_neighbors[i]} , Accuracy = {accuracy_scores[i]} , Precision = {precision_scores[i]}\")\n",
    "#print(test_score)\n",
    "#print(\"Accuracy \" , accuracy_scores)\n",
    "#print( \"Precision \" , precision_scores)"
   ]
  },
  {
   "cell_type": "markdown",
   "id": "f249788e-1379-45eb-af4e-2542e5bbc907",
   "metadata": {},
   "source": [
    "    From above results it is clear that for k =2 we get best results.\n",
    "    This shows how value of k affect the model's performance and as we have to adjust value of k manually so this is hyperparameter of KNN model."
   ]
  },
  {
   "cell_type": "markdown",
   "id": "2acbe882-55b0-4c4f-b985-85e41b3a7d63",
   "metadata": {},
   "source": [
    " In above example we only tune model for one parameter but in general there are more than one parameters to be tuned.\n",
    " for that we set different values for each variable and then tune model for each combination of these parameters values and compare \n",
    " results of each possible combination and then take the combination which gives best result.\n",
    " As number of parameters increased its become complex to loop through each combination, as for each variable make one loop and nest all loops.\n",
    " instead we use two search techniques to iterate through parameter possible values\n",
    "  - Grid Sarch\n",
    "  - Random Search\n",
    "    "
   ]
  },
  {
   "cell_type": "markdown",
   "id": "4f60689f-20a3-49d2-8f22-e04d5747dcc6",
   "metadata": {},
   "source": [
    "  ### Grid Search\n",
    "    GridSearchCV is the process of performing hyperparameter tuning in order to determine the optimal values for a given model. As mentioned above, the performance of a model significantly depends on the value of hyperparameters. Note that there is no way to know in advance the best values for hyperparameters so ideally, we need to try all possible values to know the optimal values. Doing this manually could take a considerable amount of time and resources and thus we use GridSearchCV to automate the tuning of hyperparameters.\n",
    "    We pass predefined values for hyperparameters to the GridSearchCV function. We do this by defining a dictionary in which we mention a particular hyperparameter along with the values it can take."
   ]
  },
  {
   "cell_type": "code",
   "execution_count": 22,
   "id": "8f0efc8b-19e0-4321-8c98-3e049c888197",
   "metadata": {},
   "outputs": [],
   "source": [
    "from sklearn.model_selection import GridSearchCV\n",
    "# Hyperparameters for logistic regression\n",
    "dual=[True,False]\n",
    "max_iter=[100,110,120,130,140]\n",
    "param_grid = dict(dual=dual,max_iter=max_iter)"
   ]
  },
  {
   "cell_type": "code",
   "execution_count": 23,
   "id": "6de86c9c-2872-4400-8f38-979ae7bc49e1",
   "metadata": {},
   "outputs": [],
   "source": [
    "import time"
   ]
  },
  {
   "cell_type": "code",
   "execution_count": 25,
   "id": "d617c43a-a35c-4670-a7d1-0d459bbf42c6",
   "metadata": {},
   "outputs": [
    {
     "name": "stdout",
     "output_type": "stream",
     "text": [
      "Best: 0.961603 using {'dual': False, 'max_iter': 140}\n",
      "Execution time: 26.509246826171875 ms\n"
     ]
    }
   ],
   "source": [
    "\n",
    "lr = LogisticRegression()\n",
    "grid = GridSearchCV(estimator=lr, param_grid=param_grid, cv = 3, n_jobs=-1)\n",
    "\n",
    "start_time = time.time()\n",
    "grid_result = grid.fit(x_train, y_train)\n",
    "# Summarize results\n",
    "print(\"Best: %f using %s\" % (grid_result.best_score_, grid_result.best_params_))\n",
    "print(\"Execution time: \" + str((time.time() - start_time)) + ' ms')"
   ]
  },
  {
   "cell_type": "markdown",
   "id": "3db56a3d-de65-4a19-9088-9e33d3f95bc8",
   "metadata": {},
   "source": [
    " ### Gridsearch Results\n",
    " In above code we use logisticregression with two Hyperparameters\n",
    "  dual and max_iter\n",
    " we provide two possible values(true, false) for dual parameter and five[100,110,120,130,140] values for max_iter parameter.\n",
    " we use gridsearch to find best combination of these two parameters from givem possible values and give search provide best possible combination\n",
    " for given values, that is dual = 'False' and max_iter = '140'. and gridsearch took almost '26' ms to calculate possible given combination.\n",
    " If we increase number of parameters or possible values of each parameter value then number of possible combination will increase that will need\n",
    " more computational power and also took more time.\n",
    " \n",
    " "
   ]
  },
  {
   "cell_type": "markdown",
   "id": "21349cb0-b1db-435d-bf7d-e36557014c39",
   "metadata": {},
   "source": [
    " ### Random Search\n",
    "     Although grid search gives best possible combination of parameters but it also took more computation and more time to complete task.\n",
    "     As number of parameters increases or possible values of parameter increases grid search becomes very expensive( computational power and time).\n",
    "     There is another search methon inplace of Grid search and that is Random search that takes less computation hence decrease time to calculations.\n",
    "     As name shows it took random values from possible values of parameters and perform operation to find optimal combination.\n",
    "     Now we apply Random search for same configuration of parameters and see the results."
   ]
  },
  {
   "cell_type": "code",
   "execution_count": 26,
   "id": "5a8c6c61-a8ec-4cfb-94ea-1e91303a2cf9",
   "metadata": {},
   "outputs": [],
   "source": [
    "from sklearn.model_selection import RandomizedSearchCV"
   ]
  },
  {
   "cell_type": "code",
   "execution_count": 28,
   "id": "321790b9-6d53-407c-9ce9-5e1f87bec527",
   "metadata": {},
   "outputs": [
    {
     "name": "stdout",
     "output_type": "stream",
     "text": [
      "Best: 0.961603 using {'max_iter': 140, 'dual': False}\n",
      "Execution time: 22.411121129989624 ms\n"
     ]
    }
   ],
   "source": [
    "random = RandomizedSearchCV(estimator=lr, param_distributions=param_grid, cv = 3, n_jobs=-1)\n",
    "\n",
    "start_time = time.time()\n",
    "random_result = random.fit(x_train, y_train)\n",
    "# Summarize results\n",
    "print(\"Best: %f using %s\" % (random_result.best_score_, random_result.best_params_))\n",
    "print(\"Execution time: \" + str((time.time() - start_time)) + ' ms')"
   ]
  },
  {
   "cell_type": "markdown",
   "id": "5a4d711f-d055-4b62-9b6e-5f72809d0a2d",
   "metadata": {},
   "source": [
    " ### Randomsearch Results\n",
    "     From above results it is clear that random search gives same result( Parameter configuration) as Gridsearch but it took less time '22' ms.\n",
    "     The time difference in both searches seem very small it is due to that we have given only to parameters with small number of possible values .\n",
    "     If we increase number of parameters or possible values of each parameter or botth then time taken by each search will be very different."
   ]
  },
  {
   "cell_type": "code",
   "execution_count": 33,
   "id": "f17d4777-e676-4619-9faf-a9bc161bf8c3",
   "metadata": {},
   "outputs": [],
   "source": [
    "C = [1.0,1.5,2.0,2.5]\n",
    "dual=[True,False]\n",
    "max_iter=[100,110,120,130,140]\n",
    "param_grid = dict(dual=dual,max_iter=max_iter,C=C)\n"
   ]
  },
  {
   "cell_type": "code",
   "execution_count": 34,
   "id": "7efb78ac-c5a7-407e-b840-f32a1b036f50",
   "metadata": {},
   "outputs": [
    {
     "name": "stdout",
     "output_type": "stream",
     "text": [
      "Best: 0.962431 using {'C': 1.5, 'dual': False, 'max_iter': 110}\n",
      "Execution time: 77.0304958820343 ms\n"
     ]
    }
   ],
   "source": [
    "grid = GridSearchCV(estimator=lr, param_grid=param_grid, cv = 3, n_jobs=-1)\n",
    "\n",
    "start_time = time.time()\n",
    "grid_result = grid.fit(x_train, y_train)\n",
    "# Summarize results\n",
    "print(\"Best: %f using %s\" % (grid_result.best_score_, grid_result.best_params_))\n",
    "print(\"Execution time: \" + str((time.time() - start_time)) + ' ms')"
   ]
  },
  {
   "cell_type": "markdown",
   "id": "e02b53a2-433c-4e02-a7ed-3b1b3ea6e14f",
   "metadata": {},
   "source": [
    "    Now we increase only one parameter and that is 'C'. From result it is clear that by setting this parameter value our \n",
    "    model's result got better slightely. So it is clear that by tuning Hyperparameters of model model's performance got better.\n",
    "    But it also increases computational time as only increasing one parameter with possible four values gridsearch took \n",
    "    almost three times more time( from 26 ms to 77 ms)."
   ]
  },
  {
   "cell_type": "code",
   "execution_count": 35,
   "id": "46f3a340-087e-4107-b7a2-cdfe1a57733e",
   "metadata": {},
   "outputs": [
    {
     "name": "stdout",
     "output_type": "stream",
     "text": [
      "Best: 0.961326 using {'max_iter': 120, 'dual': False, 'C': 1.5}\n",
      "Execution time: 26.66182804107666 ms\n"
     ]
    }
   ],
   "source": [
    "random = RandomizedSearchCV(estimator=lr, param_distributions=param_grid, cv = 3, n_jobs=-1)\n",
    "\n",
    "start_time = time.time()\n",
    "random_result = random.fit(x_train, y_train)\n",
    "# Summarize results\n",
    "print(\"Best: %f using %s\" % (random_result.best_score_, random_result.best_params_))\n",
    "print(\"Execution time: \" + str((time.time() - start_time)) + ' ms')"
   ]
  },
  {
   "cell_type": "markdown",
   "id": "e63d5feb-0462-432a-bc6d-428d7c915ab0",
   "metadata": {},
   "source": [
    "    Now we use same three parameter configuration and find optimal combination using random search.\n",
    "    from results it is clear that Random search took very less  time( 27 ms) than Grid search time( 77 ms) for same parameters.\n",
    "    So random search took less time but results also showed that after random search models performance is less than the gridsearch's model performance,\n",
    "   and also both searches did not give same parameter configuration.\n",
    "   That is because Grid search evaluates model on every possible combination of given parameter values. that is if we make a set of all\n",
    "   possible combinations of parameter values then grid search will take one by one all values of parameter combination from that set and check\n",
    "   model's performance on this combination and in the end gives the combination which provide best model performance.\n",
    "   On the other hand Random search will make a subset of that parameter combination set by randomly picking some combination values and \n",
    "   evaluates model on this subset of parameters combination and gives the combination from that subset for which model performs best."
   ]
  },
  {
   "cell_type": "code",
   "execution_count": null,
   "id": "5c12acda-4951-4f76-b7eb-09a2d4bb2446",
   "metadata": {},
   "outputs": [],
   "source": []
  },
  {
   "cell_type": "markdown",
   "id": "ce13bfcd-b7f9-4478-a540-ab8d3e1dabfc",
   "metadata": {},
   "source": [
    "### Conclusion\n",
    "    Hyperparameter configuration is good to inhance model performance.\n",
    "    Grid search and Random search both gives best combination of parameter for possible gien parameter values.\n",
    " - Grid search gives best parameter combination but took large time.\n",
    " - Random search took less time than Grid search but may not give best parameter combination.\n",
    "\n",
    "   So if model performance is more important than evaluation time or possible parameter combination set is small then use Grid search to\n",
    "    find optimal Parameter combination.\n",
    "   But if evaluation time is crucial or possible parameter combination set is very large then use Random search to\n",
    "    find optimal Parameter combination.\n",
    "    "
   ]
  },
  {
   "cell_type": "markdown",
   "id": "0f907d7d-000a-4536-b132-937149837bcb",
   "metadata": {},
   "source": [
    "## References\n",
    "\n",
    "1. https://www.kaggle.com/datasets/balaka18/email-spam-classification-dataset-csv/code\n",
    "\n",
    "2. https://www.kaggle.com/code/devraai/email-spam-classification-prediction\n",
    "\n",
    "3. https://www.kaggle.com/code/pspspspx/email-spam-detection-model-using-lr-xgboost\n",
    "\n",
    "4. https://www.kaggle.com/code/sujithvl/email-spam-detection\n",
    "\n",
    "5. https://www.kaggle.com/code/abdelrahmantamer11/email-spam-classification-with-naivebayes\n",
    "\n",
    "6. https://www.youtube.com/watch?v=FkF2jhaRJIs\n",
    "\n",
    "7. https://medium.com/@agrawalsam1997/hyperparameter-tuning-of-knn-classifier-a32f31af25c7\n",
    "\n",
    "8. https://www.kaggle.com/code/shreayan98c/hyperparameter-tuning-tutorial\n",
    "\n",
    "9. https://www.datacamp.com/tutorial/parameter-optimization-machine-learning-models?utm_source=google&utm_medium=paid_search&utm_campaignid=19589720824&utm_adgroupid=157156376071&utm_device=c&utm_keyword=&utm_matchtype=&utm_network=g&utm_adpostion=&utm_creative=733936254683&utm_targetid=dsa-2218886984380&utm_loc_interest_ms=&utm_loc_physical_ms=9061357&utm_content=ps-other~apac-en~dsa~tofu~tutorial-machine-learning&accountid=9624585688&utm_campaign=230119_1-ps-other~dsa~tofu_2-b2c_3-apac_4-prc_5-na_6-na_7-le_8-pdsh-go_9-nb-e_10-na_11-na&gad_source=1&gclid=EAIaIQobChMIn9nzq-3gjAMVBIloCR2kwQ86EAAYASAAEgKEK_D_BwE\n"
   ]
  },
  {
   "cell_type": "markdown",
   "id": "5441a016-15f0-47a8-bc29-4e502c5d7488",
   "metadata": {},
   "source": [
    "### My Github Reporitory\n",
    "    this is my github repository of this project.give suggestions and improve this code here\n",
    "    \n"
   ]
  },
  {
   "cell_type": "code",
   "execution_count": null,
   "id": "98a5d2c3-8a58-41ee-a9cf-716117117b23",
   "metadata": {},
   "outputs": [],
   "source": []
  }
 ],
 "metadata": {
  "kernelspec": {
   "display_name": "Python 3 (ipykernel)",
   "language": "python",
   "name": "python3"
  },
  "language_info": {
   "codemirror_mode": {
    "name": "ipython",
    "version": 3
   },
   "file_extension": ".py",
   "mimetype": "text/x-python",
   "name": "python",
   "nbconvert_exporter": "python",
   "pygments_lexer": "ipython3",
   "version": "3.13.2"
  }
 },
 "nbformat": 4,
 "nbformat_minor": 5
}
